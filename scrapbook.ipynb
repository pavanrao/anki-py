{
 "cells": [
  {
   "cell_type": "code",
   "execution_count": 109,
   "metadata": {},
   "outputs": [],
   "source": [
    "import requests\n",
    "from bs4 import BeautifulSoup\n",
    "import json\n",
    "from pandas import DataFrame as df\n",
    "from bs4 import element\n",
    "import re"
   ]
  },
  {
   "cell_type": "code",
   "execution_count": 9,
   "metadata": {},
   "outputs": [],
   "source": [
    "page = requests.get('https://www.oxfordlearnersdictionaries.com/wordlists/oxford-phrase-list/', headers={\"User-Agent\":\"Mozilla/5.0\"})\n",
    "soup = BeautifulSoup(page.text, 'html.parser') "
   ]
  },
  {
   "cell_type": "code",
   "execution_count": null,
   "metadata": {},
   "outputs": [],
   "source": [
    "print(soup.prettify())"
   ]
  },
  {
   "cell_type": "code",
   "execution_count": null,
   "metadata": {},
   "outputs": [],
   "source": [
    "list(soup.children)"
   ]
  },
  {
   "cell_type": "code",
   "execution_count": 12,
   "metadata": {},
   "outputs": [
    {
     "data": {
      "text/plain": [
       "[bs4.element.Doctype,\n",
       " bs4.element.NavigableString,\n",
       " bs4.element.Tag,\n",
       " bs4.element.NavigableString]"
      ]
     },
     "execution_count": 12,
     "metadata": {},
     "output_type": "execute_result"
    }
   ],
   "source": [
    "[type(item) for item in list(soup.children)]"
   ]
  },
  {
   "cell_type": "code",
   "execution_count": null,
   "metadata": {},
   "outputs": [],
   "source": [
    "soup.find_all('ul', class_='top-g')[0]"
   ]
  },
  {
   "cell_type": "code",
   "execution_count": null,
   "metadata": {},
   "outputs": [],
   "source": [
    "start_index = html.find('<ul class=\"top-g\"')"
   ]
  },
  {
   "cell_type": "code",
   "execution_count": 47,
   "metadata": {},
   "outputs": [],
   "source": [
    "base_url=\"https://www.oxfordlearnersdictionaries.com\""
   ]
  },
  {
   "cell_type": "code",
   "execution_count": 28,
   "metadata": {},
   "outputs": [],
   "source": [
    "page = requests.get('https://www.oxfordlearnersdictionaries.com/wordlists/oxford-phrase-list/', headers={\"User-Agent\":\"Mozilla/5.0\"})\n",
    "soup = BeautifulSoup(page.text, 'html.parser') \n",
    "words = soup.find(\"ul\",{\"class\":\"top-g\"}).find_all(\"li\")"
   ]
  },
  {
   "cell_type": "code",
   "execution_count": 51,
   "metadata": {},
   "outputs": [
    {
     "name": "stdout",
     "output_type": "stream",
     "text": [
      "<li data-hw=\"a bit\" data-oxford_phrase_list=\"a2\"> <a href=\"/definition/english/bit#bit_sng_1\">a bit</a> <div><span class=\"belong-to\">a2</span> <div class=\"sound audio_play_button icon-audio pron-uk\" data-src-mp3=\"/media/english/uk_pron/a/a_b/a_bit/a_bit_1_gb_1.mp3\" data-src-ogg=\"/media/english/uk_pron_ogg/a/a_b/a_bit/a_bit_1_gb_1.ogg\"> </div> <div class=\"sound audio_play_button icon-audio pron-us\" data-src-mp3=\"/media/english/us_pron/a/a_b/a_bit/a_bit_1_us_2.mp3\" data-src-ogg=\"/media/english/us_pron_ogg/a/a_b/a_bit/a_bit_1_us_2.ogg\"> </div></div></li>\n",
      "{'data-hw': 'a bit', 'data-oxford_phrase_list': 'a2'}\n",
      "<li data-hw=\"a bit\" data-oxford_phrase_list=\"a2\">\n",
      " <a href=\"/definition/english/bit#bit_sng_1\">\n",
      "  a bit\n",
      " </a>\n",
      " <div>\n",
      "  <span class=\"belong-to\">\n",
      "   a2\n",
      "  </span>\n",
      "  <div class=\"sound audio_play_button icon-audio pron-uk\" data-src-mp3=\"/media/english/uk_pron/a/a_b/a_bit/a_bit_1_gb_1.mp3\" data-src-ogg=\"/media/english/uk_pron_ogg/a/a_b/a_bit/a_bit_1_gb_1.ogg\">\n",
      "  </div>\n",
      "  <div class=\"sound audio_play_button icon-audio pron-us\" data-src-mp3=\"/media/english/us_pron/a/a_b/a_bit/a_bit_1_us_2.mp3\" data-src-ogg=\"/media/english/us_pron_ogg/a/a_b/a_bit/a_bit_1_us_2.ogg\">\n",
      "  </div>\n",
      " </div>\n",
      "</li>\n",
      "\n",
      "\n",
      "\n",
      "\n"
     ]
    },
    {
     "data": {
      "text/plain": [
       "[' ',\n",
       " <a href=\"/definition/english/bit#bit_sng_1\">a bit</a>,\n",
       " ' ',\n",
       " <div><span class=\"belong-to\">a2</span> <div class=\"sound audio_play_button icon-audio pron-uk\" data-src-mp3=\"/media/english/uk_pron/a/a_b/a_bit/a_bit_1_gb_1.mp3\" data-src-ogg=\"/media/english/uk_pron_ogg/a/a_b/a_bit/a_bit_1_gb_1.ogg\"> </div> <div class=\"sound audio_play_button icon-audio pron-us\" data-src-mp3=\"/media/english/us_pron/a/a_b/a_bit/a_bit_1_us_2.mp3\" data-src-ogg=\"/media/english/us_pron_ogg/a/a_b/a_bit/a_bit_1_us_2.ogg\"> </div></div>]"
      ]
     },
     "execution_count": 51,
     "metadata": {},
     "output_type": "execute_result"
    }
   ],
   "source": [
    "first = p[0]\n",
    "print(first)\n",
    "print(first.attrs)\n",
    "print(first.prettify())\n",
    "print(\"\\n\\n\")\n",
    "# for item in list(first.find_all()):\n",
    "#     print(item, \"\\n\")\n",
    "\n",
    "list(first.children)"
   ]
  },
  {
   "cell_type": "code",
   "execution_count": 65,
   "metadata": {},
   "outputs": [
    {
     "name": "stdout",
     "output_type": "stream",
     "text": [
      " \n",
      "<a href=\"/definition/english/bit#bit_sng_1\">a bit</a>\n",
      " \n",
      "<div><span class=\"belong-to\">a2</span> <div class=\"sound audio_play_button icon-audio pron-uk\" data-src-mp3=\"/media/english/uk_pron/a/a_b/a_bit/a_bit_1_gb_1.mp3\" data-src-ogg=\"/media/english/uk_pron_ogg/a/a_b/a_bit/a_bit_1_gb_1.ogg\"> </div> <div class=\"sound audio_play_button icon-audio pron-us\" data-src-mp3=\"/media/english/us_pron/a/a_b/a_bit/a_bit_1_us_2.mp3\" data-src-ogg=\"/media/english/us_pron_ogg/a/a_b/a_bit/a_bit_1_us_2.ogg\"> </div></div>\n"
     ]
    }
   ],
   "source": [
    "l = list(first.descendants)\n",
    "for child in first.contents:\n",
    "    print(child)\n"
   ]
  },
  {
   "cell_type": "code",
   "execution_count": 113,
   "metadata": {},
   "outputs": [
    {
     "name": "stdout",
     "output_type": "stream",
     "text": [
      "None\n",
      "<span class=\"belong-to\">a2</span>\n",
      "None\n",
      "None\n",
      "None\n",
      "a2\n",
      "[<div class=\"sound audio_play_button icon-audio pron-us\" data-src-mp3=\"/media/english/us_pron/a/a_b/a_bit/a_bit_1_us_2.mp3\" data-src-ogg=\"/media/english/us_pron_ogg/a/a_b/a_bit/a_bit_1_us_2.ogg\"> </div>]\n",
      "/media/english/us_pron/a/a_b/a_bit/a_bit_1_us_2.mp3\n",
      "/media/english/us_pron_ogg/a/a_b/a_bit/a_bit_1_us_2.ogg\n",
      "<class 'bs4.element.Tag'>\n",
      "a bit\n",
      "https://www.oxfordlearnersdictionaries.com/definition/english/bit#bit_sng_1\n"
     ]
    }
   ],
   "source": [
    "for child in first.descendants:\n",
    "    if not isinstance(child, NavigableString):\n",
    "        print(child.find(class_=\"belong-to\"))\n",
    "        \n",
    "print(first.find(class_=\"belong-to\").get_text())\n",
    "sounds = first.find_all('div', class_=re.compile('^sound.*us'))\n",
    "print(sounds)\n",
    "print(sounds[0]['data-src-mp3'])\n",
    "print(sounds[0]['data-src-ogg'])\n",
    "print(type(sounds[0]))\n",
    "dict_link = first.find('a')\n",
    "print(dict_link.get_text()) \n",
    "print(base_url+dict_link[\"href\"])"
   ]
  },
  {
   "cell_type": "code",
   "execution_count": 138,
   "metadata": {},
   "outputs": [],
   "source": [
    "def get_sound(tag:element.Tag, pattern:re.Pattern)->tuple:\n",
    "    sounds = tag.find_all('div', class_=re.compile('^sound.*us'))\n",
    "    return(sounds[0]['data-src-mp3'],sounds[0]['data-src-ogg'])\n"
   ]
  },
  {
   "cell_type": "code",
   "execution_count": 139,
   "metadata": {},
   "outputs": [
    {
     "data": {
      "text/plain": [
       "('/media/english/us_pron/a/a_b/a_bit/a_bit_1_us_2.mp3',\n",
       " '/media/english/us_pron_ogg/a/a_b/a_bit/a_bit_1_us_2.ogg')"
      ]
     },
     "execution_count": 139,
     "metadata": {},
     "output_type": "execute_result"
    }
   ],
   "source": [
    "get_sound(first,re.compile('^sound.*us'))"
   ]
  },
  {
   "cell_type": "code",
   "execution_count": 122,
   "metadata": {},
   "outputs": [],
   "source": [
    "def get_dict(tag:element.Tag)->tuple:\n",
    "    dict_link = tag.find('a')\n",
    "    return(dict_link.get_text(), dict_link[\"href\"])"
   ]
  },
  {
   "cell_type": "code",
   "execution_count": 123,
   "metadata": {},
   "outputs": [
    {
     "data": {
      "text/plain": [
       "('a bit', '/definition/english/bit#bit_sng_1')"
      ]
     },
     "execution_count": 123,
     "metadata": {},
     "output_type": "execute_result"
    }
   ],
   "source": [
    "get_dict(first)"
   ]
  },
  {
   "cell_type": "code",
   "execution_count": 127,
   "metadata": {},
   "outputs": [],
   "source": [
    "def get_level(tag:element.Tag)->str:\n",
    "    return tag.find(class_=\"belong-to\").get_text()\n"
   ]
  },
  {
   "cell_type": "code",
   "execution_count": 128,
   "metadata": {},
   "outputs": [
    {
     "data": {
      "text/plain": [
       "'a2'"
      ]
     },
     "execution_count": 128,
     "metadata": {},
     "output_type": "execute_result"
    }
   ],
   "source": [
    "get_level(first)"
   ]
  },
  {
   "cell_type": "code",
   "execution_count": 68,
   "metadata": {},
   "outputs": [
    {
     "data": {
      "text/plain": [
       "[' ',\n",
       " <a href=\"/definition/english/bit#bit_sng_1\">a bit</a>,\n",
       " 'a bit',\n",
       " ' ',\n",
       " <div><span class=\"belong-to\">a2</span> <div class=\"sound audio_play_button icon-audio pron-uk\" data-src-mp3=\"/media/english/uk_pron/a/a_b/a_bit/a_bit_1_gb_1.mp3\" data-src-ogg=\"/media/english/uk_pron_ogg/a/a_b/a_bit/a_bit_1_gb_1.ogg\"> </div> <div class=\"sound audio_play_button icon-audio pron-us\" data-src-mp3=\"/media/english/us_pron/a/a_b/a_bit/a_bit_1_us_2.mp3\" data-src-ogg=\"/media/english/us_pron_ogg/a/a_b/a_bit/a_bit_1_us_2.ogg\"> </div></div>,\n",
       " <span class=\"belong-to\">a2</span>,\n",
       " 'a2',\n",
       " ' ',\n",
       " <div class=\"sound audio_play_button icon-audio pron-uk\" data-src-mp3=\"/media/english/uk_pron/a/a_b/a_bit/a_bit_1_gb_1.mp3\" data-src-ogg=\"/media/english/uk_pron_ogg/a/a_b/a_bit/a_bit_1_gb_1.ogg\"> </div>,\n",
       " ' ',\n",
       " ' ',\n",
       " <div class=\"sound audio_play_button icon-audio pron-us\" data-src-mp3=\"/media/english/us_pron/a/a_b/a_bit/a_bit_1_us_2.mp3\" data-src-ogg=\"/media/english/us_pron_ogg/a/a_b/a_bit/a_bit_1_us_2.ogg\"> </div>,\n",
       " ' ']"
      ]
     },
     "execution_count": 68,
     "metadata": {},
     "output_type": "execute_result"
    }
   ],
   "source": [
    "list(first.descendants)"
   ]
  },
  {
   "cell_type": "code",
   "execution_count": 4,
   "metadata": {},
   "outputs": [],
   "source": [
    "import requests\n",
    "from bs4 import BeautifulSoup\n",
    "import json\n",
    "from pandas import DataFrame as df\n",
    "from bs4 import element\n",
    "import re\n",
    "\n",
    "page = requests.get('https://www.oxfordlearnersdictionaries.com/wordlists/oxford-phrase-list/', headers={\"User-Agent\":\"Mozilla/5.0\"})\n",
    "#page = requests.get('https://www.oxfordlearnersdictionaries.com/wordlists/oxford3000-5000/', headers={\"User-Agent\":\"Mozilla/5.0\"})\n",
    "soup = BeautifulSoup(page.text, 'html.parser') \n",
    "words = soup.find(\"ul\",{\"class\":\"top-g\"}).find_all(\"li\")\n",
    "\n",
    "def get_sound(tag:element.Tag, pattern:re.Pattern)->tuple:\n",
    "    sounds = tag.find_all('div', pattern)\n",
    "    return(sounds[0]['data-src-mp3'],sounds[0]['data-src-ogg'])\n",
    "\n",
    "\n",
    "def get_dict(tag:element.Tag)->tuple:\n",
    "    dict_link = tag.find('a')\n",
    "    if dict_link:\n",
    "        return(dict_link.get_text(), dict_link[\"href\"])\n",
    "    else:\n",
    "        text = tag.find(\"span\").text\n",
    "        url_help = text.replace(' ', '+')\n",
    "        link= r'/us/definition/english/' + url_help\n",
    "        return(text, link)\n",
    "\n",
    "\n",
    "def get_level(tag:element.Tag)->str:\n",
    "    return tag.find(class_=\"belong-to\").get_text()\n",
    "\n",
    "\n",
    "def scrap():\n",
    "    for word in words:\n",
    "        # print(word)\n",
    "        # print(type(word))\n",
    "        text=get_dict(word)\n",
    "        level=get_level(word)\n",
    "        sounds_us = get_sound(word,re.compile('^sound.*us'))\n",
    "        sounds_uk = get_sound(word,re.compile('^sound.*uk'))\n",
    "        yield(*text, level, *sounds_us, *sounds_uk)"
   ]
  },
  {
   "cell_type": "code",
   "execution_count": 18,
   "metadata": {},
   "outputs": [],
   "source": [
    "t = scrap()"
   ]
  },
  {
   "cell_type": "code",
   "execution_count": 28,
   "metadata": {},
   "outputs": [
    {
     "data": {
      "text/plain": [
       "'asda+asdsad'"
      ]
     },
     "execution_count": 28,
     "metadata": {},
     "output_type": "execute_result"
    }
   ],
   "source": [
    "x = \"asda asdsad\"\n",
    "x.replace(' ', '+')"
   ]
  },
  {
   "cell_type": "code",
   "execution_count": 19,
   "metadata": {},
   "outputs": [
    {
     "data": {
      "text/plain": [
       "('a',\n",
       " '/definition/english/a_1',\n",
       " 'a1',\n",
       " '/media/english/us_pron/a/a__/a__us/a__us_2_rr.mp3',\n",
       " '/media/english/us_pron_ogg/a/a__/a__us/a__us_2_rr.ogg',\n",
       " '/media/english/uk_pron/a/a__/a__gb/a__gb_2.mp3',\n",
       " '/media/english/uk_pron_ogg/a/a__/a__gb/a__gb_2.ogg')"
      ]
     },
     "execution_count": 19,
     "metadata": {},
     "output_type": "execute_result"
    }
   ],
   "source": [
    "next(t)"
   ]
  },
  {
   "cell_type": "code",
   "execution_count": null,
   "metadata": {},
   "outputs": [],
   "source": []
  },
  {
   "cell_type": "code",
   "execution_count": 15,
   "metadata": {},
   "outputs": [],
   "source": [
    "import sqlite3\n",
    "def save_results(db:str,table:str):\n",
    "    conn = sqlite3.connect(f'{db}')\n",
    "    cur = conn.cursor()\n",
    "    for row in scrap():\n",
    "        try:\n",
    "            # Add logic to move  create table to another method\n",
    "        #    cur.execute(f\"create table {table}(phrase,dict_url,level,sound_us_mp3,sound_us_ogg,sound_uk_mp3,sound_uk_ogg)\")\n",
    "            cur.execute(f\"insert into {table}(phrase,dict_url,level,sound_us_mp3,sound_us_ogg,sound_uk_mp3,sound_uk_ogg) values (?,?,?,?,?,?,?)\"\n",
    "                            , row)\n",
    "            # cur.execute(f\"select * from {table}\")\n",
    "            # print(cur.fetchall())\n",
    "        except Exception as ex:\n",
    "            print(\"error\")\n",
    "            print(row)\n",
    "            print(ex)\n",
    "    conn.commit()\n",
    "    conn.close()"
   ]
  },
  {
   "cell_type": "code",
   "execution_count": 32,
   "metadata": {},
   "outputs": [
    {
     "data": {
      "text/plain": [
       "'a1'"
      ]
     },
     "execution_count": 32,
     "metadata": {},
     "output_type": "execute_result"
    }
   ],
   "source": [
    "tag = words[0]\n",
    "tag.find_all(class_=\"belong-to\")[0].get_text()"
   ]
  },
  {
   "cell_type": "code",
   "execution_count": 33,
   "metadata": {},
   "outputs": [],
   "source": [
    "import requests\n",
    "from bs4 import BeautifulSoup\n",
    "import json\n",
    "from pandas import DataFrame as df\n",
    "from bs4 import element\n",
    "import re\n",
    "\n",
    "#page = requests.get('https://www.oxfordlearnersdictionaries.com/wordlists/oxford-phrase-list/', headers={\"User-Agent\":\"Mozilla/5.0\"})\n",
    "page = requests.get('https://www.oxfordlearnersdictionaries.com/wordlists/oxford3000-5000/', headers={\"User-Agent\":\"Mozilla/5.0\"})\n",
    "soup = BeautifulSoup(page.text, 'html.parser') \n",
    "words = soup.find(\"ul\",{\"class\":\"top-g\"}).find_all(\"li\")\n",
    "\n",
    "def get_sound(tag:element.Tag, pattern:re.Pattern)->tuple:\n",
    "    sounds = tag.find_all('div', pattern)\n",
    "    try:\n",
    "        mp3, ogg = sounds[0]['data-src-mp3'],sounds[0]['data-src-ogg']\n",
    "    except Exception as Ex:\n",
    "        print('Error, sound not found')\n",
    "        print(tag)\n",
    "        print(Ex)\n",
    "        return \"#error\", \"#error\"\n",
    "    else:\n",
    "        return(mp3,ogg)\n",
    "\n",
    "\n",
    "def get_dict(tag:element.Tag)->tuple:\n",
    "    dict_link = tag.find('a')\n",
    "    if dict_link:\n",
    "        return(dict_link.get_text(), dict_link[\"href\"])\n",
    "    else:\n",
    "        text = tag.find(\"span\").text\n",
    "        url_help = text.replace(' ', '+')\n",
    "        link= r'/us/definition/english/' + url_help\n",
    "        return(text, link)\n",
    "\n",
    "\n",
    "def get_level(tag:element.Tag)->str:\n",
    "    try:\n",
    "        text = tag.find(class_=\"belong-to\").get_text()\n",
    "    except Exception as Ex:\n",
    "        print(\"Error getting Level\")\n",
    "        print(tag)\n",
    "        print(Ex)\n",
    "        return(\"#error\")\n",
    "    else: \n",
    "        return text\n",
    "\n",
    "def get_parts_of_speech(tag:element.Tag)->str:\n",
    "    try:\n",
    "        pos = tag.find(class_=\"pos\").get_text()\n",
    "    except Exception as Ex:\n",
    "        print(\"Error getting pos\")\n",
    "        print(tag)\n",
    "        print(Ex)\n",
    "        return(\"#error\")\n",
    "    else: \n",
    "        return pos\n",
    "\n",
    "def scrap():\n",
    "    for word in words:\n",
    "        # print(word)\n",
    "        # print(type(word))\n",
    "        text=get_dict(word)\n",
    "        level=get_level(word)\n",
    "        sounds_us = get_sound(word,re.compile('^sound.*us'))\n",
    "        sounds_uk = get_sound(word,re.compile('^sound.*uk'))\n",
    "        pos = get_parts_of_speech(word)\n",
    "        yield(*text, level, *sounds_us, *sounds_uk,pos)"
   ]
  },
  {
   "cell_type": "code",
   "execution_count": 17,
   "metadata": {},
   "outputs": [
    {
     "data": {
      "text/plain": [
       "'noun'"
      ]
     },
     "execution_count": 17,
     "metadata": {},
     "output_type": "execute_result"
    }
   ],
   "source": [
    "tag = words[55]\n",
    "tag.find(class_=\"pos\").get_text()"
   ]
  },
  {
   "cell_type": "code",
   "execution_count": 14,
   "metadata": {},
   "outputs": [
    {
     "name": "stdout",
     "output_type": "stream",
     "text": [
      "('a', '/definition/english/a_1', 'a1', '/media/english/us_pron/a/a__/a__us/a__us_2_rr.mp3', '/media/english/us_pron_ogg/a/a__/a__us/a__us_2_rr.ogg', '/media/english/uk_pron/a/a__/a__gb/a__gb_2.mp3', '/media/english/uk_pron_ogg/a/a__/a__gb/a__gb_2.ogg')\n"
     ]
    }
   ],
   "source": [
    "for row in scrap():\n",
    "    print(row)\n",
    "    break"
   ]
  },
  {
   "cell_type": "code",
   "execution_count": 34,
   "metadata": {},
   "outputs": [],
   "source": [
    "import sqlite3\n",
    "\n",
    "def prep_table(db:str, table:str, ddl:str, truncate:bool=False, drop:bool=False):\n",
    "    conn = sqlite3.connect(f'{db}')\n",
    "    cur = conn.cursor()\n",
    "    if drop:    \n",
    "        cur.execute(f\"drop table IF EXISTS {table}\")\n",
    "  \n",
    "    cur.execute(ddl)\n",
    "    if truncate:\n",
    "        cur.execute(f\"delete from {table}\")\n",
    "        \n",
    "    conn.commit()\n",
    "    conn.close()\n",
    "\n",
    "def save_results(db:str,table:str, truncate:bool=False,):\n",
    "    conn = sqlite3.connect(f'{db}')\n",
    "    cur = conn.cursor()\n",
    "    if truncate:\n",
    "        cur.execute(f\"delete from {table}\")\n",
    "\n",
    "    for row in scrap():\n",
    "        try:\n",
    "            cur.execute(f\"insert into {table}(word,dict_url,level,sound_us_mp3,sound_us_ogg,sound_uk_mp3,sound_uk_ogg, parts_of_speech) values (?,?,?,?,?,?,?,?)\"\n",
    "                            , row)\n",
    "            # cur.execute(f\"select * from {table}\")\n",
    "            # print(cur.fetchall())\n",
    "        except Exception as ex:\n",
    "            print(\"error inserting row\")\n",
    "            print(row)\n",
    "            print(ex)\n",
    "    conn.commit()\n",
    "    conn.close()"
   ]
  },
  {
   "cell_type": "code",
   "execution_count": 35,
   "metadata": {},
   "outputs": [
    {
     "name": "stdout",
     "output_type": "stream",
     "text": [
      "Error getting Level\n",
      "<li data-hw=\"accounting\"> <a href=\"/definition/english/accounting\">accounting</a> <span class=\"pos\">noun</span><div> <div class=\"sound audio_play_button icon-audio pron-uk\" data-src-mp3=\"/media/english/uk_pron/a/acc/accou/accounting__gb_1.mp3\" data-src-ogg=\"/media/english/uk_pron_ogg/a/acc/accou/accounting__gb_1.ogg\"> </div> <div class=\"sound audio_play_button icon-audio pron-us\" data-src-mp3=\"/media/english/us_pron/a/acc/accou/accounting__us_1.mp3\" data-src-ogg=\"/media/english/us_pron_ogg/a/acc/accou/accounting__us_1.ogg\"> </div></div></li>\n",
      "'NoneType' object has no attribute 'get_text'\n",
      "Error getting Level\n",
      "<li data-hw=\"angrily\"> <a href=\"/definition/english/angrily\">angrily</a> <span class=\"pos\">adverb</span><div> <div class=\"sound audio_play_button icon-audio pron-uk\" data-src-mp3=\"/media/english/uk_pron/a/ang/angri/angrily__gb_1.mp3\" data-src-ogg=\"/media/english/uk_pron_ogg/a/ang/angri/angrily__gb_1.ogg\"> </div> <div class=\"sound audio_play_button icon-audio pron-us\" data-src-mp3=\"/media/english/us_pron/a/ang/angri/angrily__us_1.mp3\" data-src-ogg=\"/media/english/us_pron_ogg/a/ang/angri/angrily__us_1.ogg\"> </div></div></li>\n",
      "'NoneType' object has no attribute 'get_text'\n",
      "Error getting Level\n",
      "<li data-hw=\"cleaning\"> <a href=\"/definition/english/cleaning\">cleaning</a> <span class=\"pos\">noun</span><div> <div class=\"sound audio_play_button icon-audio pron-uk\" data-src-mp3=\"/media/english/uk_pron/c/cle/clean/cleaning__gb_1.mp3\" data-src-ogg=\"/media/english/uk_pron_ogg/c/cle/clean/cleaning__gb_1.ogg\"> </div> <div class=\"sound audio_play_button icon-audio pron-us\" data-src-mp3=\"/media/english/us_pron/c/cle/clean/cleaning__us_1.mp3\" data-src-ogg=\"/media/english/us_pron_ogg/c/cle/clean/cleaning__us_1.ogg\"> </div></div></li>\n",
      "'NoneType' object has no attribute 'get_text'\n",
      "Error getting Level\n",
      "<li data-hw=\"feeding\"> <a href=\"/definition/english/feeding\">feeding</a> <span class=\"pos\">noun</span><div> <div class=\"sound audio_play_button icon-audio pron-uk\" data-src-mp3=\"/media/english/uk_pron/f/fee/feedi/feeding__gb_1.mp3\" data-src-ogg=\"/media/english/uk_pron_ogg/f/fee/feedi/feeding__gb_1.ogg\"> </div> <div class=\"sound audio_play_button icon-audio pron-us\" data-src-mp3=\"/media/english/us_pron/f/fee/feedi/feeding__us_1.mp3\" data-src-ogg=\"/media/english/us_pron_ogg/f/fee/feedi/feeding__us_1.ogg\"> </div></div></li>\n",
      "'NoneType' object has no attribute 'get_text'\n",
      "Error getting Level\n",
      "<li data-hw=\"major\"> <a href=\"/definition/english/major_2\">major</a> <span class=\"pos\">noun</span><div> <div class=\"sound audio_play_button icon-audio pron-uk\" data-src-mp3=\"/media/english/uk_pron/m/maj/major/major__gb_2.mp3\" data-src-ogg=\"/media/english/uk_pron_ogg/m/maj/major/major__gb_2.ogg\"> </div> <div class=\"sound audio_play_button icon-audio pron-us\" data-src-mp3=\"/media/english/us_pron/m/maj/major/major__us_2.mp3\" data-src-ogg=\"/media/english/us_pron_ogg/m/maj/major/major__us_2.ogg\"> </div></div></li>\n",
      "'NoneType' object has no attribute 'get_text'\n",
      "Error, sound not found\n",
      "<li data-hw=\"nursing\" data-ox5000=\"b2\"> <a href=\"/definition/english/nursing\">nursing</a> <span class=\"pos\">noun</span><div><span class=\"belong-to\">b2</span></div></li>\n",
      "list index out of range\n",
      "Error, sound not found\n",
      "<li data-hw=\"nursing\" data-ox5000=\"b2\"> <a href=\"/definition/english/nursing\">nursing</a> <span class=\"pos\">noun</span><div><span class=\"belong-to\">b2</span></div></li>\n",
      "list index out of range\n"
     ]
    }
   ],
   "source": [
    "db='db/word_list.db'\n",
    "table='oxford5000'\n",
    "ddl=f\"create table IF NOT EXISTS {table} (word,dict_url,level,sound_us_mp3,sound_us_ogg,sound_uk_mp3,sound_uk_ogg,parts_of_speech)\"\n",
    "prep_table(db,table,ddl, truncate=True, drop=True)\n",
    "save_results(db,table,truncate=True)"
   ]
  },
  {
   "cell_type": "code",
   "execution_count": 32,
   "metadata": {},
   "outputs": [
    {
     "name": "stdout",
     "output_type": "stream",
     "text": [
      "Downloading File major__us_2.mp3\n"
     ]
    }
   ],
   "source": [
    "# Try downloading a file\n",
    "\n",
    "base_url=\"https://www.oxfordlearnersdictionaries.com\"\n",
    "data_src_mp3=\"/media/english/us_pron/m/maj/major/major__us_2.mp3\"\n",
    "file_name=data_src_mp3.split('/')[-1]\n",
    "href=f'{base_url}{data_src_mp3}'\n",
    "print(f\"Downloading File {file_name}\")\n",
    "download = requests.get(href, headers={\"User-Agent\":\"Mozilla/5.0\"})\n",
    "if download.status_code == 200:\n",
    "    with open(file_name, 'wb') as f:\n",
    "        f.write(download.content)\n",
    "else:\n",
    "    print(f\"Download Failed For File {file_name}\")\n"
   ]
  },
  {
   "cell_type": "code",
   "execution_count": null,
   "metadata": {},
   "outputs": [],
   "source": [
    "def run_select(db:str,table:str, sql:str):\n",
    "    conn = sqlite3.connect(f'{db}')\n",
    "    cur = conn.cursor()\n",
    "    try:\n",
    "        cur.execute(sql)\n",
    "        results=cur.fetchall()\n",
    "    except Exception as ex:\n",
    "        print(f\"error running sql {sql}\")\n",
    "        print(ex)\n",
    "    conn.commit()\n",
    "    conn.close()\n",
    "    return results"
   ]
  },
  {
   "cell_type": "code",
   "execution_count": 61,
   "metadata": {},
   "outputs": [],
   "source": [
    "def get_sound_urls(table:str,file_type:str='mp3',region:str='us',word:str=None):\n",
    "    base_url=\"https://www.oxfordlearnersdictionaries.com\"\n",
    "    base_query=f\"select sound_{region}_{file_type} from {table} where 1=1\"\n",
    "    exclude_error=f\"and sound_{region}_{file_type} <> '#error'\"\n",
    "    where_word=f\"and word = '{word}'\" if word else \"\"        \n",
    "    sql = f\"{base_query} {exclude_error} {where_word}\"\n",
    "    \n",
    "    db='db/word_list.db'\n",
    "    conn = sqlite3.connect(f'{db}')\n",
    "    cur = conn.cursor()\n",
    "    try:\n",
    "        cur.execute(sql)\n",
    "        results=cur.fetchall()\n",
    "    except Exception as ex:\n",
    "        print(f\"error running sql {sql}\")\n",
    "        print(ex)\n",
    "    conn.commit()\n",
    "    conn.close()\n",
    "    return results"
   ]
  },
  {
   "cell_type": "code",
   "execution_count": 45,
   "metadata": {},
   "outputs": [
    {
     "data": {
      "text/plain": [
       "[('/media/english/us_pron/a/a__/a__us/a__us_2_rr.mp3',),\n",
       " ('/media/english/us_pron/a/aba/aband/abandon__us_2.mp3',),\n",
       " ('/media/english/us_pron/a/abi/abili/ability__us_4.mp3',),\n",
       " ('/media/english/us_pron/a/abl/able_/able__us_2.mp3',),\n",
       " ('/media/english/us_pron/a/abo/aboli/abolish__us_1.mp3',)]"
      ]
     },
     "execution_count": 45,
     "metadata": {},
     "output_type": "execute_result"
    }
   ],
   "source": [
    "sounds=get_sound_urls('oxford5000')\n",
    "sounds[0:5]"
   ]
  },
  {
   "cell_type": "code",
   "execution_count": 51,
   "metadata": {},
   "outputs": [
    {
     "data": {
      "text/plain": [
       "0"
      ]
     },
     "execution_count": 51,
     "metadata": {},
     "output_type": "execute_result"
    }
   ],
   "source": [
    "import os\n",
    "os.chdir('data/oxford5000/mp3')\n",
    "os.getcwd()\n",
    "os.system('wget https://www.oxfordlearnersdictionaries.com/media/english/us_pron/m/maj/major/major__us_2.mp3')\n"
   ]
  },
  {
   "cell_type": "code",
   "execution_count": 79,
   "metadata": {},
   "outputs": [
    {
     "name": "stdout",
     "output_type": "stream",
     "text": [
      "0.6\n"
     ]
    }
   ],
   "source": [
    "import random\n",
    "import time\n",
    "seconds = random.randint(0,10)/10\n",
    "time.sleep(seconds)\n",
    "print(seconds)\n",
    "os.chdir('/home/prao/code/anki-py')"
   ]
  },
  {
   "cell_type": "code",
   "execution_count": 80,
   "metadata": {},
   "outputs": [],
   "source": [
    "import os\n",
    "import time\n",
    "import random\n",
    "\n",
    "def download_sound( path:str, table:str,file_type:str='mp3',region:str='us',word:str=None,):\n",
    "    base_url='https://www.oxfordlearnersdictionaries.com'\n",
    "    sounds=get_sound_urls(table,file_type,region,word)\n",
    "    # TODO There must be a better way, I dont like to change path like this\n",
    "    print(os.getcwd()) \n",
    "    os.chdir(path)\n",
    "    print(os.getcwd())\n",
    "    \n",
    "    for sound in sounds:\n",
    "        wget=f'wget {base_url}{sound[0]}'\n",
    "        return_code = os.system(wget)\n",
    "        if return_code != 0:\n",
    "            print(f'Error running {wget}')\n",
    "        time.sleep(random.randint(0,10)/10)"
   ]
  },
  {
   "cell_type": "code",
   "execution_count": 81,
   "metadata": {},
   "outputs": [
    {
     "name": "stdout",
     "output_type": "stream",
     "text": [
      "/home/prao/code/anki-py\n",
      "/home/prao/code/anki-py/data/oxford5000/mp3\n"
     ]
    }
   ],
   "source": [
    "download_sound('data/oxford5000/mp3','oxford5000')\n"
   ]
  }
 ],
 "metadata": {
  "kernelspec": {
   "display_name": "Python 3.8.5 64-bit ('venv')",
   "language": "python",
   "name": "python38564bitvenve8be688e8d0e478b88080bc4220226b8"
  },
  "language_info": {
   "codemirror_mode": {
    "name": "ipython",
    "version": 3
   },
   "file_extension": ".py",
   "mimetype": "text/x-python",
   "name": "python",
   "nbconvert_exporter": "python",
   "pygments_lexer": "ipython3",
   "version": "3.8.5"
  }
 },
 "nbformat": 4,
 "nbformat_minor": 4
}
