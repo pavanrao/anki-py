{
 "cells": [
  {
   "cell_type": "code",
   "execution_count": 109,
   "metadata": {},
   "outputs": [],
   "source": [
    "import requests\n",
    "from bs4 import BeautifulSoup\n",
    "import json\n",
    "from pandas import DataFrame as df\n",
    "from bs4 import element\n",
    "import re"
   ]
  },
  {
   "cell_type": "code",
   "execution_count": 9,
   "metadata": {},
   "outputs": [],
   "source": [
    "page = requests.get('https://www.oxfordlearnersdictionaries.com/wordlists/oxford-phrase-list/', headers={\"User-Agent\":\"Mozilla/5.0\"})\n",
    "soup = BeautifulSoup(page.text, 'html.parser') "
   ]
  },
  {
   "cell_type": "code",
   "execution_count": null,
   "metadata": {},
   "outputs": [],
   "source": [
    "print(soup.prettify())"
   ]
  },
  {
   "cell_type": "code",
   "execution_count": null,
   "metadata": {},
   "outputs": [],
   "source": [
    "list(soup.children)"
   ]
  },
  {
   "cell_type": "code",
   "execution_count": 12,
   "metadata": {},
   "outputs": [
    {
     "data": {
      "text/plain": [
       "[bs4.element.Doctype,\n",
       " bs4.element.NavigableString,\n",
       " bs4.element.Tag,\n",
       " bs4.element.NavigableString]"
      ]
     },
     "execution_count": 12,
     "metadata": {},
     "output_type": "execute_result"
    }
   ],
   "source": [
    "[type(item) for item in list(soup.children)]"
   ]
  },
  {
   "cell_type": "code",
   "execution_count": null,
   "metadata": {},
   "outputs": [],
   "source": [
    "soup.find_all('ul', class_='top-g')[0]"
   ]
  },
  {
   "cell_type": "code",
   "execution_count": null,
   "metadata": {},
   "outputs": [],
   "source": [
    "start_index = html.find('<ul class=\"top-g\"')"
   ]
  },
  {
   "cell_type": "code",
   "execution_count": 47,
   "metadata": {},
   "outputs": [],
   "source": [
    "base_url=\"https://www.oxfordlearnersdictionaries.com\""
   ]
  },
  {
   "cell_type": "code",
   "execution_count": 28,
   "metadata": {},
   "outputs": [],
   "source": [
    "page = requests.get('https://www.oxfordlearnersdictionaries.com/wordlists/oxford-phrase-list/', headers={\"User-Agent\":\"Mozilla/5.0\"})\n",
    "soup = BeautifulSoup(page.text, 'html.parser') \n",
    "words = soup.find(\"ul\",{\"class\":\"top-g\"}).find_all(\"li\")"
   ]
  },
  {
   "cell_type": "code",
   "execution_count": 51,
   "metadata": {},
   "outputs": [
    {
     "name": "stdout",
     "output_type": "stream",
     "text": [
      "<li data-hw=\"a bit\" data-oxford_phrase_list=\"a2\"> <a href=\"/definition/english/bit#bit_sng_1\">a bit</a> <div><span class=\"belong-to\">a2</span> <div class=\"sound audio_play_button icon-audio pron-uk\" data-src-mp3=\"/media/english/uk_pron/a/a_b/a_bit/a_bit_1_gb_1.mp3\" data-src-ogg=\"/media/english/uk_pron_ogg/a/a_b/a_bit/a_bit_1_gb_1.ogg\"> </div> <div class=\"sound audio_play_button icon-audio pron-us\" data-src-mp3=\"/media/english/us_pron/a/a_b/a_bit/a_bit_1_us_2.mp3\" data-src-ogg=\"/media/english/us_pron_ogg/a/a_b/a_bit/a_bit_1_us_2.ogg\"> </div></div></li>\n",
      "{'data-hw': 'a bit', 'data-oxford_phrase_list': 'a2'}\n",
      "<li data-hw=\"a bit\" data-oxford_phrase_list=\"a2\">\n",
      " <a href=\"/definition/english/bit#bit_sng_1\">\n",
      "  a bit\n",
      " </a>\n",
      " <div>\n",
      "  <span class=\"belong-to\">\n",
      "   a2\n",
      "  </span>\n",
      "  <div class=\"sound audio_play_button icon-audio pron-uk\" data-src-mp3=\"/media/english/uk_pron/a/a_b/a_bit/a_bit_1_gb_1.mp3\" data-src-ogg=\"/media/english/uk_pron_ogg/a/a_b/a_bit/a_bit_1_gb_1.ogg\">\n",
      "  </div>\n",
      "  <div class=\"sound audio_play_button icon-audio pron-us\" data-src-mp3=\"/media/english/us_pron/a/a_b/a_bit/a_bit_1_us_2.mp3\" data-src-ogg=\"/media/english/us_pron_ogg/a/a_b/a_bit/a_bit_1_us_2.ogg\">\n",
      "  </div>\n",
      " </div>\n",
      "</li>\n",
      "\n",
      "\n",
      "\n",
      "\n"
     ]
    },
    {
     "data": {
      "text/plain": [
       "[' ',\n",
       " <a href=\"/definition/english/bit#bit_sng_1\">a bit</a>,\n",
       " ' ',\n",
       " <div><span class=\"belong-to\">a2</span> <div class=\"sound audio_play_button icon-audio pron-uk\" data-src-mp3=\"/media/english/uk_pron/a/a_b/a_bit/a_bit_1_gb_1.mp3\" data-src-ogg=\"/media/english/uk_pron_ogg/a/a_b/a_bit/a_bit_1_gb_1.ogg\"> </div> <div class=\"sound audio_play_button icon-audio pron-us\" data-src-mp3=\"/media/english/us_pron/a/a_b/a_bit/a_bit_1_us_2.mp3\" data-src-ogg=\"/media/english/us_pron_ogg/a/a_b/a_bit/a_bit_1_us_2.ogg\"> </div></div>]"
      ]
     },
     "execution_count": 51,
     "metadata": {},
     "output_type": "execute_result"
    }
   ],
   "source": [
    "first = p[0]\n",
    "print(first)\n",
    "print(first.attrs)\n",
    "print(first.prettify())\n",
    "print(\"\\n\\n\")\n",
    "# for item in list(first.find_all()):\n",
    "#     print(item, \"\\n\")\n",
    "\n",
    "list(first.children)"
   ]
  },
  {
   "cell_type": "code",
   "execution_count": 65,
   "metadata": {},
   "outputs": [
    {
     "name": "stdout",
     "output_type": "stream",
     "text": [
      " \n",
      "<a href=\"/definition/english/bit#bit_sng_1\">a bit</a>\n",
      " \n",
      "<div><span class=\"belong-to\">a2</span> <div class=\"sound audio_play_button icon-audio pron-uk\" data-src-mp3=\"/media/english/uk_pron/a/a_b/a_bit/a_bit_1_gb_1.mp3\" data-src-ogg=\"/media/english/uk_pron_ogg/a/a_b/a_bit/a_bit_1_gb_1.ogg\"> </div> <div class=\"sound audio_play_button icon-audio pron-us\" data-src-mp3=\"/media/english/us_pron/a/a_b/a_bit/a_bit_1_us_2.mp3\" data-src-ogg=\"/media/english/us_pron_ogg/a/a_b/a_bit/a_bit_1_us_2.ogg\"> </div></div>\n"
     ]
    }
   ],
   "source": [
    "l = list(first.descendants)\n",
    "for child in first.contents:\n",
    "    print(child)\n"
   ]
  },
  {
   "cell_type": "code",
   "execution_count": 113,
   "metadata": {},
   "outputs": [
    {
     "name": "stdout",
     "output_type": "stream",
     "text": [
      "None\n",
      "<span class=\"belong-to\">a2</span>\n",
      "None\n",
      "None\n",
      "None\n",
      "a2\n",
      "[<div class=\"sound audio_play_button icon-audio pron-us\" data-src-mp3=\"/media/english/us_pron/a/a_b/a_bit/a_bit_1_us_2.mp3\" data-src-ogg=\"/media/english/us_pron_ogg/a/a_b/a_bit/a_bit_1_us_2.ogg\"> </div>]\n",
      "/media/english/us_pron/a/a_b/a_bit/a_bit_1_us_2.mp3\n",
      "/media/english/us_pron_ogg/a/a_b/a_bit/a_bit_1_us_2.ogg\n",
      "<class 'bs4.element.Tag'>\n",
      "a bit\n",
      "https://www.oxfordlearnersdictionaries.com/definition/english/bit#bit_sng_1\n"
     ]
    }
   ],
   "source": [
    "for child in first.descendants:\n",
    "    if not isinstance(child, NavigableString):\n",
    "        print(child.find(class_=\"belong-to\"))\n",
    "        \n",
    "print(first.find(class_=\"belong-to\").get_text())\n",
    "sounds = first.find_all('div', class_=re.compile('^sound.*us'))\n",
    "print(sounds)\n",
    "print(sounds[0]['data-src-mp3'])\n",
    "print(sounds[0]['data-src-ogg'])\n",
    "print(type(sounds[0]))\n",
    "dict_link = first.find('a')\n",
    "print(dict_link.get_text()) \n",
    "print(base_url+dict_link[\"href\"])"
   ]
  },
  {
   "cell_type": "code",
   "execution_count": 138,
   "metadata": {},
   "outputs": [],
   "source": [
    "def get_sound(tag:element.Tag, pattern:re.Pattern)->tuple:\n",
    "    sounds = tag.find_all('div', class_=re.compile('^sound.*us'))\n",
    "    return(sounds[0]['data-src-mp3'],sounds[0]['data-src-ogg'])\n"
   ]
  },
  {
   "cell_type": "code",
   "execution_count": 139,
   "metadata": {},
   "outputs": [
    {
     "data": {
      "text/plain": [
       "('/media/english/us_pron/a/a_b/a_bit/a_bit_1_us_2.mp3',\n",
       " '/media/english/us_pron_ogg/a/a_b/a_bit/a_bit_1_us_2.ogg')"
      ]
     },
     "execution_count": 139,
     "metadata": {},
     "output_type": "execute_result"
    }
   ],
   "source": [
    "get_sound(first,re.compile('^sound.*us'))"
   ]
  },
  {
   "cell_type": "code",
   "execution_count": 122,
   "metadata": {},
   "outputs": [],
   "source": [
    "def get_dict(tag:element.Tag)->tuple:\n",
    "    dict_link = tag.find('a')\n",
    "    return(dict_link.get_text(), dict_link[\"href\"])"
   ]
  },
  {
   "cell_type": "code",
   "execution_count": 123,
   "metadata": {},
   "outputs": [
    {
     "data": {
      "text/plain": [
       "('a bit', '/definition/english/bit#bit_sng_1')"
      ]
     },
     "execution_count": 123,
     "metadata": {},
     "output_type": "execute_result"
    }
   ],
   "source": [
    "get_dict(first)"
   ]
  },
  {
   "cell_type": "code",
   "execution_count": 127,
   "metadata": {},
   "outputs": [],
   "source": [
    "def get_level(tag:element.Tag)->str:\n",
    "    return tag.find(class_=\"belong-to\").get_text()\n"
   ]
  },
  {
   "cell_type": "code",
   "execution_count": 128,
   "metadata": {},
   "outputs": [
    {
     "data": {
      "text/plain": [
       "'a2'"
      ]
     },
     "execution_count": 128,
     "metadata": {},
     "output_type": "execute_result"
    }
   ],
   "source": [
    "get_level(first)"
   ]
  },
  {
   "cell_type": "code",
   "execution_count": 68,
   "metadata": {},
   "outputs": [
    {
     "data": {
      "text/plain": [
       "[' ',\n",
       " <a href=\"/definition/english/bit#bit_sng_1\">a bit</a>,\n",
       " 'a bit',\n",
       " ' ',\n",
       " <div><span class=\"belong-to\">a2</span> <div class=\"sound audio_play_button icon-audio pron-uk\" data-src-mp3=\"/media/english/uk_pron/a/a_b/a_bit/a_bit_1_gb_1.mp3\" data-src-ogg=\"/media/english/uk_pron_ogg/a/a_b/a_bit/a_bit_1_gb_1.ogg\"> </div> <div class=\"sound audio_play_button icon-audio pron-us\" data-src-mp3=\"/media/english/us_pron/a/a_b/a_bit/a_bit_1_us_2.mp3\" data-src-ogg=\"/media/english/us_pron_ogg/a/a_b/a_bit/a_bit_1_us_2.ogg\"> </div></div>,\n",
       " <span class=\"belong-to\">a2</span>,\n",
       " 'a2',\n",
       " ' ',\n",
       " <div class=\"sound audio_play_button icon-audio pron-uk\" data-src-mp3=\"/media/english/uk_pron/a/a_b/a_bit/a_bit_1_gb_1.mp3\" data-src-ogg=\"/media/english/uk_pron_ogg/a/a_b/a_bit/a_bit_1_gb_1.ogg\"> </div>,\n",
       " ' ',\n",
       " ' ',\n",
       " <div class=\"sound audio_play_button icon-audio pron-us\" data-src-mp3=\"/media/english/us_pron/a/a_b/a_bit/a_bit_1_us_2.mp3\" data-src-ogg=\"/media/english/us_pron_ogg/a/a_b/a_bit/a_bit_1_us_2.ogg\"> </div>,\n",
       " ' ']"
      ]
     },
     "execution_count": 68,
     "metadata": {},
     "output_type": "execute_result"
    }
   ],
   "source": [
    "list(first.descendants)"
   ]
  },
  {
   "cell_type": "code",
   "execution_count": 140,
   "metadata": {},
   "outputs": [],
   "source": [
    "page = requests.get('https://www.oxfordlearnersdictionaries.com/wordlists/oxford-phrase-list/', headers={\"User-Agent\":\"Mozilla/5.0\"})\n",
    "soup = BeautifulSoup(page.text, 'html.parser') \n",
    "words = soup.find(\"ul\",{\"class\":\"top-g\"}).find_all(\"li\")\n",
    "\n",
    "def get_sound(tag:element.Tag, pattern:re.Pattern)->tuple:\n",
    "    sounds = tag.find_all('div', pattern)\n",
    "    return(sounds[0]['data-src-mp3'],sounds[0]['data-src-ogg'])\n",
    "\n",
    "\n",
    "def get_dict(tag:element.Tag)->tuple:\n",
    "    dict_link = tag.find('a')\n",
    "    return(dict_link.get_text(), dict_link[\"href\"])\n",
    "\n",
    "\n",
    "def get_level(tag:element.Tag)->str:\n",
    "    return tag.find(class_=\"belong-to\").get_text()\n",
    "\n",
    "\n",
    "def scrap():\n",
    "    for word in words:\n",
    "        print(word)\n",
    "        print(type(word))\n",
    "        text=get_dict(word)\n",
    "        level=get_level(word)\n",
    "        sounds_us = get_sound(word,re.compile('^sound.*us'))\n",
    "        sounds_uk = get_sound(word,re.compile('^sound.*uk'))\n",
    "        yield(*text, level, *sounds_us, *sounds_uk)"
   ]
  },
  {
   "cell_type": "code",
   "execution_count": 158,
   "metadata": {},
   "outputs": [],
   "source": [
    "t = scrap()"
   ]
  },
  {
   "cell_type": "code",
   "execution_count": 175,
   "metadata": {},
   "outputs": [
    {
     "name": "stdout",
     "output_type": "stream",
     "text": [
      "<li data-hw=\"a lot of sth\" data-oxford_phrase_list=\"a1\"> <a href=\"/definition/english/lot_2#lot_sng_2\">a lot of sth</a> <div><span class=\"belong-to\">a1</span> <div class=\"sound audio_play_button icon-audio pron-uk\" data-src-mp3=\"/media/english/uk_pron/a/a_l/a_lot/a_lot_of_sth_1_gb_1.mp3\" data-src-ogg=\"/media/english/uk_pron_ogg/a/a_l/a_lot/a_lot_of_sth_1_gb_1.ogg\"> </div> <div class=\"sound audio_play_button icon-audio pron-us\" data-src-mp3=\"/media/english/us_pron/a/a_l/a_lot/a_lot_of_sth_1_us_1.mp3\" data-src-ogg=\"/media/english/us_pron_ogg/a/a_l/a_lot/a_lot_of_sth_1_us_1.ogg\"> </div></div></li>\n",
      "<class 'bs4.element.Tag'>\n"
     ]
    },
    {
     "data": {
      "text/plain": [
       "('a lot of sth',\n",
       " '/definition/english/lot_2#lot_sng_2',\n",
       " 'a1',\n",
       " '/media/english/us_pron/a/a_l/a_lot/a_lot_of_sth_1_us_1.mp3',\n",
       " '/media/english/us_pron_ogg/a/a_l/a_lot/a_lot_of_sth_1_us_1.ogg',\n",
       " '/media/english/uk_pron/a/a_l/a_lot/a_lot_of_sth_1_gb_1.mp3',\n",
       " '/media/english/uk_pron_ogg/a/a_l/a_lot/a_lot_of_sth_1_gb_1.ogg')"
      ]
     },
     "execution_count": 175,
     "metadata": {},
     "output_type": "execute_result"
    }
   ],
   "source": [
    "next(t)"
   ]
  }
 ],
 "metadata": {
  "kernelspec": {
   "display_name": "Python 3.8.5 64-bit ('venv')",
   "language": "python",
   "name": "python38564bitvenve8be688e8d0e478b88080bc4220226b8"
  },
  "language_info": {
   "codemirror_mode": {
    "name": "ipython",
    "version": 3
   },
   "file_extension": ".py",
   "mimetype": "text/x-python",
   "name": "python",
   "nbconvert_exporter": "python",
   "pygments_lexer": "ipython3",
   "version": "3.8.5"
  }
 },
 "nbformat": 4,
 "nbformat_minor": 4
}
